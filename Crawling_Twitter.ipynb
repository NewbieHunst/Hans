{
  "nbformat": 4,
  "nbformat_minor": 0,
  "metadata": {
    "colab": {
      "name": "Crawling_Twitter.ipynb",
      "provenance": [],
      "toc_visible": true
    },
    "kernelspec": {
      "name": "ir",
      "display_name": "R"
    }
  },
  "cells": [
    {
      "cell_type": "code",
      "metadata": {
        "id": "qEVxjQTUg7O3",
        "colab": {
          "base_uri": "https://localhost:8080/"
        },
        "outputId": "7cd5db30-ff88-4df0-e757-4c50abadac77"
      },
      "source": [
        "install.packages(\"httr\")"
      ],
      "execution_count": null,
      "outputs": [
        {
          "output_type": "stream",
          "text": [
            "Installing package into ‘/usr/local/lib/R/site-library’\n",
            "(as ‘lib’ is unspecified)\n",
            "\n"
          ],
          "name": "stderr"
        }
      ]
    },
    {
      "cell_type": "code",
      "metadata": {
        "id": "As-bwdcEhdtW",
        "colab": {
          "base_uri": "https://localhost:8080/"
        },
        "outputId": "f58cbf9b-f861-4389-87da-6d01ceb32976"
      },
      "source": [
        "install.packages(\"twitteR\")"
      ],
      "execution_count": null,
      "outputs": [
        {
          "output_type": "stream",
          "text": [
            "Installing package into ‘/usr/local/lib/R/site-library’\n",
            "(as ‘lib’ is unspecified)\n",
            "\n",
            "also installing the dependencies ‘bit’, ‘bit64’, ‘rjson’\n",
            "\n",
            "\n"
          ],
          "name": "stderr"
        }
      ]
    },
    {
      "cell_type": "code",
      "metadata": {
        "id": "S7kwElQmhmGu"
      },
      "source": [
        "library(\"httr\")"
      ],
      "execution_count": null,
      "outputs": []
    },
    {
      "cell_type": "code",
      "metadata": {
        "id": "AQjYKO17hqz3"
      },
      "source": [
        "library(\"twitteR\")"
      ],
      "execution_count": null,
      "outputs": []
    },
    {
      "cell_type": "code",
      "metadata": {
        "id": "DT501gOHiKXV",
        "colab": {
          "base_uri": "https://localhost:8080/"
        },
        "outputId": "d4f374b9-f8d7-439d-a21c-5da29a47291c"
      },
      "source": [
        "#setup_twitter_oauth(\"ConsumerKey\",\"ConsumerSecretKey\", \"AccessToken\", \"AccessSecretToken\")\n",
        "setup_twitter_oauth('xxxxxxxxxxxxxxxxxxxxxx','xxxxxxxxxxxxxxxxxxxxxx','xxxxxxxxxx-xxxxxxxxxxxxxxxxxxxxxxx','xxxxxxxxxxxxxxxx')"
      ],
      "execution_count": null,
      "outputs": [
        {
          "output_type": "stream",
          "text": [
            "[1] \"Using direct authentication\"\n"
          ],
          "name": "stdout"
        }
      ]
    },
    {
      "cell_type": "code",
      "metadata": {
        "id": "9U1qMp6IiqTt"
      },
      "source": [
        "tweets<- searchTwitter(\"Nissa Sabyan\",lang=\"id\", n=1000)"
      ],
      "execution_count": null,
      "outputs": []
    },
    {
      "cell_type": "code",
      "metadata": {
        "id": "dSpVtoC0iwwt"
      },
      "source": [
        "tweets<- twListToDF(tweets)"
      ],
      "execution_count": null,
      "outputs": []
    },
    {
      "cell_type": "code",
      "metadata": {
        "id": "5Ic5z2Lei2Ag"
      },
      "source": [
        "write.csv(tweets,\"Nissa Sabyan.csv\", row.names = FALSE)"
      ],
      "execution_count": null,
      "outputs": []
    }
  ]
}